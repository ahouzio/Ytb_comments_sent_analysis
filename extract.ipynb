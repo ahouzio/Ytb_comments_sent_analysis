{
 "cells": [
  {
   "cell_type": "markdown",
   "metadata": {},
   "source": [
    "#### GETTING THE DATA :"
   ]
  },
  {
   "cell_type": "code",
   "execution_count": 4,
   "metadata": {},
   "outputs": [],
   "source": [
    "from obsei.source import YoutubeScrapperSource, YoutubeScrapperConfig"
   ]
  },
  {
   "cell_type": "code",
   "execution_count": 5,
   "metadata": {},
   "outputs": [
    {
     "data": {
      "text/plain": [
       "'https://www.youtube.com/watch?v=QuO7GNgCwBk&ab_channel=Forsen%27sGiftbox'"
      ]
     },
     "execution_count": 5,
     "metadata": {},
     "output_type": "execute_result"
    }
   ],
   "source": [
    "video_url = \"https://www.youtube.com/watch?v=QuO7GNgCwBk&ab_channel=Forsen%27sGiftbox\"\n",
    "video_url"
   ]
  },
  {
   "cell_type": "code",
   "execution_count": 6,
   "metadata": {},
   "outputs": [],
   "source": [
    "source_config = YoutubeScrapperConfig(\n",
    "    video_url= video_url,\n",
    "    fetch_replies=False,\n",
    "    max_comments=20,\n",
    "    lookup_period=\"1Y\",\n",
    ")"
   ]
  },
  {
   "cell_type": "code",
   "execution_count": 8,
   "metadata": {},
   "outputs": [
    {
     "name": "stderr",
     "output_type": "stream",
     "text": [
      "09/13/2022 18:56:09 - WARNING - obsei.misc.youtube_reviews_scrapper -   Unable to set sorting\n"
     ]
    }
   ],
   "source": [
    "source = YoutubeScrapperSource()\n",
    "\n",
    "source_response_list = source.lookup(source_config)"
   ]
  },
  {
   "cell_type": "code",
   "execution_count": 9,
   "metadata": {},
   "outputs": [],
   "source": [
    "\n",
    "comments = []\n",
    "likes = []\n",
    "for idx, source_response in enumerate(source_response_list):\n",
    "    comments.append(source_response.__dict__['meta']['text'])\n",
    "    likes.append(source_response.__dict__['meta']['votes'])\n"
   ]
  },
  {
   "cell_type": "code",
   "execution_count": 10,
   "metadata": {},
   "outputs": [
    {
     "name": "stdout",
     "output_type": "stream",
     "text": [
      "['Uhm excuse me what do you mean by \"NEW CHAMPION\" ? The dead by daylight characters are called Killers Mrs. Giftbox I hope this doesn\\'t happen again or you will need some correction', '>Champion\\n\\nThis is your brain on League of Lesbians.', 'Wesker pagman pogu pog my king 😍😍😍😍', 'new youtube pfp monkaOMEGA', 'Where is part #1. The thumbnail says this is part two but where is part one? Please clarify', 'I was the clicking Chris lule. The bill was in the other locker but I opened the wrong one', 'sweat by daylight PagMan', 'Campsen LULE', 'god gamer dog tamer nina eliminator', 'CHAMPION LULE', 'MegaLUL CAMP EM MR FORS', 'Campsen', 'quality for ants LULE', 'Wesker can get taunts on every other action but not Freddy fucking kreuger sm fucking h', '360sen PagMan', '306p wutface', 'ada wong forsenCoomer', 'God this game is so stupid...']\n",
      "['24', '40', '35', '31', '10', '1', '12', '9', '0', '2', '1', '5', '4', '0', '2', '4', '2', '5']\n"
     ]
    }
   ],
   "source": [
    "print(comments)\n",
    "print(likes)"
   ]
  },
  {
   "cell_type": "code",
   "execution_count": 11,
   "metadata": {},
   "outputs": [],
   "source": [
    "import pandas"
   ]
  },
  {
   "cell_type": "code",
   "execution_count": 12,
   "metadata": {},
   "outputs": [
    {
     "data": {
      "text/html": [
       "<div>\n",
       "<style scoped>\n",
       "    .dataframe tbody tr th:only-of-type {\n",
       "        vertical-align: middle;\n",
       "    }\n",
       "\n",
       "    .dataframe tbody tr th {\n",
       "        vertical-align: top;\n",
       "    }\n",
       "\n",
       "    .dataframe thead th {\n",
       "        text-align: right;\n",
       "    }\n",
       "</style>\n",
       "<table border=\"1\" class=\"dataframe\">\n",
       "  <thead>\n",
       "    <tr style=\"text-align: right;\">\n",
       "      <th></th>\n",
       "      <th>comments</th>\n",
       "      <th>likes</th>\n",
       "    </tr>\n",
       "  </thead>\n",
       "  <tbody>\n",
       "    <tr>\n",
       "      <th>0</th>\n",
       "      <td>Uhm excuse me what do you mean by \"NEW CHAMPIO...</td>\n",
       "      <td>24</td>\n",
       "    </tr>\n",
       "    <tr>\n",
       "      <th>1</th>\n",
       "      <td>&gt;Champion\\n\\nThis is your brain on League of L...</td>\n",
       "      <td>40</td>\n",
       "    </tr>\n",
       "    <tr>\n",
       "      <th>2</th>\n",
       "      <td>Wesker pagman pogu pog my king 😍😍😍😍</td>\n",
       "      <td>35</td>\n",
       "    </tr>\n",
       "    <tr>\n",
       "      <th>3</th>\n",
       "      <td>new youtube pfp monkaOMEGA</td>\n",
       "      <td>31</td>\n",
       "    </tr>\n",
       "    <tr>\n",
       "      <th>4</th>\n",
       "      <td>Where is part #1. The thumbnail says this is p...</td>\n",
       "      <td>10</td>\n",
       "    </tr>\n",
       "    <tr>\n",
       "      <th>5</th>\n",
       "      <td>I was the clicking Chris lule. The bill was in...</td>\n",
       "      <td>1</td>\n",
       "    </tr>\n",
       "    <tr>\n",
       "      <th>6</th>\n",
       "      <td>sweat by daylight PagMan</td>\n",
       "      <td>12</td>\n",
       "    </tr>\n",
       "    <tr>\n",
       "      <th>7</th>\n",
       "      <td>Campsen LULE</td>\n",
       "      <td>9</td>\n",
       "    </tr>\n",
       "    <tr>\n",
       "      <th>8</th>\n",
       "      <td>god gamer dog tamer nina eliminator</td>\n",
       "      <td>0</td>\n",
       "    </tr>\n",
       "    <tr>\n",
       "      <th>9</th>\n",
       "      <td>CHAMPION LULE</td>\n",
       "      <td>2</td>\n",
       "    </tr>\n",
       "    <tr>\n",
       "      <th>10</th>\n",
       "      <td>MegaLUL CAMP EM MR FORS</td>\n",
       "      <td>1</td>\n",
       "    </tr>\n",
       "    <tr>\n",
       "      <th>11</th>\n",
       "      <td>Campsen</td>\n",
       "      <td>5</td>\n",
       "    </tr>\n",
       "    <tr>\n",
       "      <th>12</th>\n",
       "      <td>quality for ants LULE</td>\n",
       "      <td>4</td>\n",
       "    </tr>\n",
       "    <tr>\n",
       "      <th>13</th>\n",
       "      <td>Wesker can get taunts on every other action bu...</td>\n",
       "      <td>0</td>\n",
       "    </tr>\n",
       "    <tr>\n",
       "      <th>14</th>\n",
       "      <td>360sen PagMan</td>\n",
       "      <td>2</td>\n",
       "    </tr>\n",
       "    <tr>\n",
       "      <th>15</th>\n",
       "      <td>306p wutface</td>\n",
       "      <td>4</td>\n",
       "    </tr>\n",
       "    <tr>\n",
       "      <th>16</th>\n",
       "      <td>ada wong forsenCoomer</td>\n",
       "      <td>2</td>\n",
       "    </tr>\n",
       "    <tr>\n",
       "      <th>17</th>\n",
       "      <td>God this game is so stupid...</td>\n",
       "      <td>5</td>\n",
       "    </tr>\n",
       "  </tbody>\n",
       "</table>\n",
       "</div>"
      ],
      "text/plain": [
       "                                             comments likes\n",
       "0   Uhm excuse me what do you mean by \"NEW CHAMPIO...    24\n",
       "1   >Champion\\n\\nThis is your brain on League of L...    40\n",
       "2                 Wesker pagman pogu pog my king 😍😍😍😍    35\n",
       "3                          new youtube pfp monkaOMEGA    31\n",
       "4   Where is part #1. The thumbnail says this is p...    10\n",
       "5   I was the clicking Chris lule. The bill was in...     1\n",
       "6                            sweat by daylight PagMan    12\n",
       "7                                        Campsen LULE     9\n",
       "8                 god gamer dog tamer nina eliminator     0\n",
       "9                                       CHAMPION LULE     2\n",
       "10                            MegaLUL CAMP EM MR FORS     1\n",
       "11                                            Campsen     5\n",
       "12                              quality for ants LULE     4\n",
       "13  Wesker can get taunts on every other action bu...     0\n",
       "14                                      360sen PagMan     2\n",
       "15                                       306p wutface     4\n",
       "16                              ada wong forsenCoomer     2\n",
       "17                      God this game is so stupid...     5"
      ]
     },
     "execution_count": 12,
     "metadata": {},
     "output_type": "execute_result"
    }
   ],
   "source": [
    "df = pandas.DataFrame(columns = [\"comments\",\"likes\"])\n",
    "df[\"comments\"] = comments\n",
    "df[\"likes\"] = likes\n",
    "df"
   ]
  },
  {
   "cell_type": "markdown",
   "metadata": {},
   "source": [
    "##### DOWNLOADING TWITTER SENTIMENT PRETRAINED MODEL :"
   ]
  },
  {
   "cell_type": "code",
   "execution_count": 13,
   "metadata": {},
   "outputs": [],
   "source": [
    "from transformers import AutoModelForSequenceClassification\n",
    "from transformers import TFAutoModelForSequenceClassification\n",
    "from transformers import AutoTokenizer\n",
    "import numpy as np\n",
    "from scipy.special import softmax\n",
    "import csv\n",
    "import urllib.request\n"
   ]
  },
  {
   "cell_type": "code",
   "execution_count": 14,
   "metadata": {},
   "outputs": [],
   "source": [
    "# Tasks:\n",
    "# emoji, emotion, hate, irony, offensive, sentiment\n",
    "task='sentiment'\n",
    "MODEL = f\"cardiffnlp/twitter-roberta-base-{task}\""
   ]
  },
  {
   "cell_type": "code",
   "execution_count": 16,
   "metadata": {},
   "outputs": [],
   "source": [
    "\n",
    "tokenizer = AutoTokenizer.from_pretrained(MODEL)\n",
    "# download label mapping\n",
    "labels=[]\n",
    "mapping_link = f\"https://raw.githubusercontent.com/cardiffnlp/tweeteval/main/datasets/{task}/mapping.txt\"\n",
    "with urllib.request.urlopen(mapping_link) as f:\n",
    "    html = f.read().decode('utf-8').split(\"\\n\")\n",
    "    csvreader = csv.reader(html, delimiter='\\t')\n",
    "labels = [row[1] for row in csvreader if len(row) > 1]\n",
    "\n",
    "# PT\n",
    "model = AutoModelForSequenceClassification.from_pretrained(MODEL)\n",
    "model.save_pretrained(MODEL)\n"
   ]
  },
  {
   "cell_type": "code",
   "execution_count": 17,
   "metadata": {},
   "outputs": [],
   "source": [
    "# Preprocess text (username and link placeholders)\n",
    "def preprocess(text):\n",
    "    new_text = []\n",
    "    for t in text.split(\" \"):\n",
    "        t = '@user' if t.startswith('@') and len(t) > 1 else t\n",
    "        t = 'http' if t.startswith('http') else t\n",
    "        new_text.append(t)\n",
    "    return \" \".join(new_text)\n"
   ]
  },
  {
   "cell_type": "markdown",
   "metadata": {},
   "source": [
    "#### FINETUNING ?"
   ]
  },
  {
   "cell_type": "code",
   "execution_count": 54,
   "metadata": {},
   "outputs": [
    {
     "name": "stdout",
     "output_type": "stream",
     "text": [
      "Uhm excuse me what do you mean by \"NEW CHAMPION\" ? The dead by daylight characters are called Killers Mrs. Giftbox I hope this doesn't happen again or you will need some correction\n",
      ">Champion\n",
      "\n",
      "This is your brain on League of Lesbians.\n",
      "Wesker pagman pogu pog my king 😍😍😍😍\n",
      "new youtube pfp monkaOMEGA\n",
      "Where is part #1. The thumbnail says this is part two but where is part one? Please clarify\n",
      "I was the clicking Chris lule. The bill was in the other locker but I opened the wrong one\n",
      "sweat by daylight PagMan\n",
      "Campsen LULE\n",
      "god gamer dog tamer nina eliminator\n",
      "CHAMPION LULE\n",
      "MegaLUL CAMP EM MR FORS\n",
      "Campsen\n",
      "quality for ants LULE\n",
      "Wesker can get taunts on every other action but not Freddy fucking kreuger sm fucking h\n",
      "360sen PagMan\n",
      "306p wutface\n",
      "ada wong forsenCoomer\n",
      "God this game is so stupid...\n"
     ]
    }
   ],
   "source": [
    "for comment in df.loc[:,\"comments\"]:\n",
    "    print(comment)"
   ]
  },
  {
   "cell_type": "markdown",
   "metadata": {},
   "source": [
    "#### USING THE MODEL ON THE DATA :"
   ]
  },
  {
   "cell_type": "code",
   "execution_count": 28,
   "metadata": {},
   "outputs": [
    {
     "name": "stdout",
     "output_type": "stream",
     "text": [
      "3\n"
     ]
    }
   ],
   "source": [
    "label_length = len(labels)\n",
    "print(label_length)\n",
    "vid_score = [0 for i in range(label_length)]\n",
    "comment_len = len(df.loc[:, \"comments\"])"
   ]
  },
  {
   "cell_type": "code",
   "execution_count": 29,
   "metadata": {},
   "outputs": [
    {
     "name": "stdout",
     "output_type": "stream",
     "text": [
      "1) negative 0.7322\n",
      "2) neutral 0.2498\n",
      "3) positive 0.018\n",
      "1) neutral 0.5902\n",
      "2) negative 0.3576\n",
      "3) positive 0.0522\n",
      "1) positive 0.966\n",
      "2) neutral 0.032\n",
      "3) negative 0.002\n",
      "1) neutral 0.8307\n",
      "2) positive 0.1468\n",
      "3) negative 0.0225\n",
      "1) neutral 0.7824\n",
      "2) negative 0.1669\n",
      "3) positive 0.0507\n",
      "1) negative 0.5951\n",
      "2) neutral 0.3715\n",
      "3) positive 0.0334\n",
      "1) neutral 0.8599\n",
      "2) negative 0.0774\n",
      "3) positive 0.0627\n",
      "1) neutral 0.7468\n",
      "2) negative 0.1648\n",
      "3) positive 0.0884\n",
      "1) negative 0.5845\n",
      "2) neutral 0.3919\n",
      "3) positive 0.0236\n",
      "1) positive 0.517\n",
      "2) neutral 0.4443\n",
      "3) negative 0.0386\n",
      "1) neutral 0.7893\n",
      "2) negative 0.1099\n",
      "3) positive 0.1008\n",
      "1) neutral 0.6736\n",
      "2) negative 0.1676\n",
      "3) positive 0.1587\n",
      "1) neutral 0.6036\n",
      "2) negative 0.3445\n",
      "3) positive 0.0519\n",
      "1) negative 0.9244\n",
      "2) neutral 0.0701\n",
      "3) positive 0.0055\n",
      "1) neutral 0.7937\n",
      "2) negative 0.1288\n",
      "3) positive 0.0775\n",
      "1) neutral 0.5974\n",
      "2) negative 0.3548\n",
      "3) positive 0.0478\n",
      "1) neutral 0.8435\n",
      "2) negative 0.1005\n",
      "3) positive 0.0559\n",
      "1) negative 0.9807\n",
      "2) neutral 0.0157\n",
      "3) positive 0.0036\n",
      "[0.745059973663754, 0.20527810230851173, 0.04966191122204893]\n"
     ]
    }
   ],
   "source": [
    "\n",
    "for comment in df.loc[:, \"comments\"]:\n",
    "    comment = preprocess(comment)\n",
    "    encoded_input = tokenizer(comment, return_tensors='pt')\n",
    "    output = model(**encoded_input)\n",
    "    scores = output[0][0].detach().numpy()\n",
    "    scores = softmax(scores)\n",
    "\n",
    "\n",
    "    ranking = np.argsort(scores)\n",
    "    ranking = ranking[::-1]\n",
    "    for i in range(scores.shape[0]):\n",
    "        l = labels[ranking[i]]\n",
    "        s = scores[ranking[i]]\n",
    "        vid_score[i] += s\n",
    "        print(f\"{i+1}) {l} {np.round(float(s), 4)}\")\n",
    "vid_score = [e/comment_len for e in vid_score]\n",
    "print(vid_score)"
   ]
  },
  {
   "cell_type": "code",
   "execution_count": 33,
   "metadata": {},
   "outputs": [
    {
     "data": {
      "image/png": "[encoded data removed]",
      "text/plain": [
       "<Figure size 1440x720 with 1 Axes>"
      ]
     },
     "metadata": {},
     "output_type": "display_data"
    }
   ],
   "source": [
    "import matplotlib.pyplot as plt\n",
    "%matplotlib inline\n",
    "plt.rcParams['figure.figsize'] = [20, 10]\n",
    "fig1, ax1 = plt.subplots()\n",
    "ax1.pie(vid_score, labels=labels, autopct='%1.1f%%',\n",
    "        shadow=True, startangle=90)\n",
    "ax1.axis('equal')  # Equal aspect ratio ensures that pie is drawn as a circle.\n",
    "\n",
    "plt.show()"
   ]
  }
 ],
 "metadata": {
  "kernelspec": {
   "display_name": "Python 3.8.13 ('NLP')",
   "language": "python",
   "name": "python3"
  },
  "language_info": {
   "codemirror_mode": {
    "name": "ipython",
    "version": 3
   },
   "file_extension": ".py",
   "mimetype": "text/x-python",
   "name": "python",
   "nbconvert_exporter": "python",
   "pygments_lexer": "ipython3",
   "version": "3.8.13"
  },
  "orig_nbformat": 4,
  "vscode": {
   "interpreter": {
    "hash": "ca160b6fda942222c6e896bfa42dd78829cb3af768f0f22e26515f6dc6244dab"
   }
  }
 },
 "nbformat": 4,
 "nbformat_minor": 2
}
