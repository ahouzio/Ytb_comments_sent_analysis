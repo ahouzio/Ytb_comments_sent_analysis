{
 "cells": [
  {
   "cell_type": "markdown",
   "metadata": {},
   "source": [
    "#### GETTING THE DATA :"
   ]
  },
  {
   "cell_type": "code",
   "execution_count": 1,
   "metadata": {},
   "outputs": [
    {
     "name": "stderr",
     "output_type": "stream",
     "text": [
      "c:\\Users\\Ahouz\\anaconda3\\envs\\NLP\\lib\\site-packages\\_distutils_hack\\__init__.py:30: UserWarning: Setuptools is replacing distutils.\n",
      "  warnings.warn(\"Setuptools is replacing distutils.\")\n"
     ]
    }
   ],
   "source": [
    "from obsei.source import YoutubeScrapperSource, YoutubeScrapperConfig"
   ]
  },
  {
   "cell_type": "code",
   "execution_count": 2,
   "metadata": {},
   "outputs": [
    {
     "data": {
      "text/plain": [
       "'https://www.youtube.com/watch?v=QuO7GNgCwBk&ab_channel=Forsen%27sGiftbox'"
      ]
     },
     "execution_count": 2,
     "metadata": {},
     "output_type": "execute_result"
    }
   ],
   "source": [
    "video_url = \"https://www.youtube.com/watch?v=QuO7GNgCwBk&ab_channel=Forsen%27sGiftbox\"\n",
    "video_url"
   ]
  },
  {
   "cell_type": "code",
   "execution_count": 3,
   "metadata": {},
   "outputs": [],
   "source": [
    "source_config = YoutubeScrapperConfig(\n",
    "    video_url= video_url,\n",
    "    fetch_replies=False,\n",
    "    max_comments=20,\n",
    "    lookup_period=\"1Y\",\n",
    ")"
   ]
  },
  {
   "cell_type": "code",
   "execution_count": 4,
   "metadata": {},
   "outputs": [
    {
     "name": "stderr",
     "output_type": "stream",
     "text": [
      "09/13/2022 23:22:14 - WARNING - obsei.misc.youtube_reviews_scrapper -   Unable to set sorting\n"
     ]
    }
   ],
   "source": [
    "source = YoutubeScrapperSource()\n",
    "\n",
    "source_response_list = source.lookup(source_config)"
   ]
  },
  {
   "cell_type": "code",
   "execution_count": 28,
   "metadata": {},
   "outputs": [
    {
     "name": "stdout",
     "output_type": "stream",
     "text": [
      "[24, 40, 35, 31, 10, 1, 12, 9, 0, 2, 1, 5, 4, 0, 2, 4, 2, 5]\n"
     ]
    }
   ],
   "source": [
    "\n",
    "comments = []\n",
    "likes = []\n",
    "for idx, source_response in enumerate(source_response_list):\n",
    "    comments.append(source_response.__dict__['meta']['text'])\n",
    "    likes.append(source_response.__dict__['meta']['votes'])\n",
    "likes = [int(like) for like in likes]\n"
   ]
  },
  {
   "cell_type": "code",
   "execution_count": 29,
   "metadata": {},
   "outputs": [
    {
     "name": "stdout",
     "output_type": "stream",
     "text": [
      "['Uhm excuse me what do you mean by \"NEW CHAMPION\" ? The dead by daylight characters are called Killers Mrs. Giftbox I hope this doesn\\'t happen again or you will need some correction', '>Champion\\n\\nThis is your brain on League of Lesbians.', 'Wesker pagman pogu pog my king 😍😍😍😍', 'new youtube pfp monkaOMEGA', 'Where is part #1. The thumbnail says this is part two but where is part one? Please clarify', 'I was the clicking Chris lule. The bill was in the other locker but I opened the wrong one', 'sweat by daylight PagMan', 'Campsen LULE', 'god gamer dog tamer nina eliminator', 'CHAMPION LULE', 'MegaLUL CAMP EM MR FORS', 'Campsen', 'quality for ants LULE', 'Wesker can get taunts on every other action but not Freddy fucking kreuger sm fucking h', '360sen PagMan', '306p wutface', 'ada wong forsenCoomer', 'God this game is so stupid...']\n",
      "[24, 40, 35, 31, 10, 1, 12, 9, 0, 2, 1, 5, 4, 0, 2, 4, 2, 5]\n"
     ]
    }
   ],
   "source": [
    "print(comments)\n",
    "print(likes)"
   ]
  },
  {
   "cell_type": "code",
   "execution_count": 8,
   "metadata": {},
   "outputs": [],
   "source": [
    "import pandas"
   ]
  },
  {
   "cell_type": "markdown",
   "metadata": {},
   "source": [
    "##### DOWNLOADING TWITTER SENTIMENT PRETRAINED MODEL :"
   ]
  },
  {
   "cell_type": "code",
   "execution_count": 10,
   "metadata": {},
   "outputs": [],
   "source": [
    "from transformers import AutoModelForSequenceClassification\n",
    "from transformers import TFAutoModelForSequenceClassification\n",
    "from transformers import AutoTokenizer\n",
    "import numpy as np\n",
    "from scipy.special import softmax\n",
    "import csv\n",
    "import urllib.request\n"
   ]
  },
  {
   "cell_type": "code",
   "execution_count": 12,
   "metadata": {},
   "outputs": [],
   "source": [
    "# Tasks:\n",
    "# emoji, emotion, hate, irony, offensive, sentiment\n",
    "task='sentiment'\n",
    "MODEL = f\"cardiffnlp/twitter-roberta-base-{task}\""
   ]
  },
  {
   "cell_type": "code",
   "execution_count": 13,
   "metadata": {},
   "outputs": [],
   "source": [
    "\n",
    "tokenizer = AutoTokenizer.from_pretrained(MODEL)\n",
    "# download label mapping\n",
    "labels=[]\n",
    "mapping_link = f\"https://raw.githubusercontent.com/cardiffnlp/tweeteval/main/datasets/{task}/mapping.txt\"\n",
    "with urllib.request.urlopen(mapping_link) as f:\n",
    "    html = f.read().decode('utf-8').split(\"\\n\")\n",
    "    csvreader = csv.reader(html, delimiter='\\t')\n",
    "labels = [row[1] for row in csvreader if len(row) > 1]\n",
    "\n",
    "# PT\n",
    "model = AutoModelForSequenceClassification.from_pretrained(MODEL) # load the pretrained bert model for tweet sentiment classification\n",
    "model.save_pretrained(MODEL)\n"
   ]
  },
  {
   "cell_type": "code",
   "execution_count": 14,
   "metadata": {},
   "outputs": [],
   "source": [
    "# Preprocess text (username and link placeholders)\n",
    "def preprocess(text):\n",
    "    new_text = []\n",
    "    for t in text.split(\" \"):\n",
    "        t = '@user' if t.startswith('@') and len(t) > 1 else t\n",
    "        t = 'http' if t.startswith('http') else t\n",
    "        new_text.append(t)\n",
    "    return \" \".join(new_text)\n"
   ]
  },
  {
   "cell_type": "markdown",
   "metadata": {},
   "source": [
    "#### FINETUNING ?"
   ]
  },
  {
   "cell_type": "markdown",
   "metadata": {},
   "source": [
    "#### USING THE MODEL ON THE DATA :"
   ]
  },
  {
   "cell_type": "code",
   "execution_count": 30,
   "metadata": {},
   "outputs": [
    {
     "name": "stdout",
     "output_type": "stream",
     "text": [
      "3\n",
      "[24, 40, 35, 31, 10, 1, 12, 9, 0, 2, 1, 5, 4, 0, 2, 4, 2, 5]\n"
     ]
    }
   ],
   "source": [
    "label_length = len(labels)\n",
    "print(label_length)\n",
    "vid_score = [0 for i in range(label_length)]\n",
    "print(likes)"
   ]
  },
  {
   "cell_type": "code",
   "execution_count": 31,
   "metadata": {},
   "outputs": [
    {
     "name": "stdout",
     "output_type": "stream",
     "text": [
      "[0.2486969081044974, 0.50755878414381, 0.24374431764263718]\n"
     ]
    }
   ],
   "source": [
    "comment_nbr = len(comments)\n",
    "for j in range(comment_nbr):\n",
    "    comment = comments[j]\n",
    "    like_nbr = likes[j]\n",
    "    comment = preprocess(comment)\n",
    "    encoded_input = tokenizer(comment, return_tensors='pt')\n",
    "    output = model(**encoded_input)\n",
    "    scores = output[0][0].detach().numpy()\n",
    "    scores = softmax(scores)\n",
    "\n",
    "    ranking = np.argsort(scores)\n",
    "    ranking = ranking[::-1]\n",
    "\n",
    "    for i in range(scores.shape[0]):\n",
    "        l = labels[ranking[i]]\n",
    "        s = scores[ranking[i]]\n",
    "        vid_score[ranking[i]] += s*like_nbr\n",
    "        #print(f\"{i+1}) {l} {np.round(float(s), 4)}\")\n",
    "like_sum = sum(likes)\n",
    "vid_score = [e/like_sum for e in vid_score]\n",
    "print(vid_score)"
   ]
  },
  {
   "cell_type": "code",
   "execution_count": 32,
   "metadata": {},
   "outputs": [
    {
     "data": {
      "image/png": "[encoded data removed]",
      "text/plain": [
       "<Figure size 1440x720 with 1 Axes>"
      ]
     },
     "metadata": {},
     "output_type": "display_data"
    }
   ],
   "source": [
    "import matplotlib.pyplot as plt\n",
    "%matplotlib inline\n",
    "plt.rcParams['figure.figsize'] = [20, 10]\n",
    "fig1, ax1 = plt.subplots()\n",
    "ax1.pie(vid_score, labels=labels, autopct='%1.1f%%',\n",
    "        shadow=True, startangle=90)\n",
    "ax1.axis('equal')  # Equal aspect ratio ensures that pie is drawn as a circle.\n",
    "\n",
    "plt.show()"
   ]
  }
 ],
 "metadata": {
  "kernelspec": {
   "display_name": "Python 3.8.13 ('NLP')",
   "language": "python",
   "name": "python3"
  },
  "language_info": {
   "codemirror_mode": {
    "name": "ipython",
    "version": 3
   },
   "file_extension": ".py",
   "mimetype": "text/x-python",
   "name": "python",
   "nbconvert_exporter": "python",
   "pygments_lexer": "ipython3",
   "version": "3.8.13"
  },
  "orig_nbformat": 4,
  "vscode": {
   "interpreter": {
    "hash": "ca160b6fda942222c6e896bfa42dd78829cb3af768f0f22e26515f6dc6244dab"
   }
  }
 },
 "nbformat": 4,
 "nbformat_minor": 2
}
